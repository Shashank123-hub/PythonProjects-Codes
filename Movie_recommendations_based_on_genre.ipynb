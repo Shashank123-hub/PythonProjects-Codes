{
  "nbformat": 4,
  "nbformat_minor": 0,
  "metadata": {
    "colab": {
      "name": "Movie recommendations based on genre.ipynb",
      "provenance": [],
      "collapsed_sections": [],
      "authorship_tag": "ABX9TyPPrDgT48wpi83LZsaCEn4U",
      "include_colab_link": true
    },
    "kernelspec": {
      "name": "python3",
      "display_name": "Python 3"
    }
  },
  "cells": [
    {
      "cell_type": "markdown",
      "metadata": {
        "id": "view-in-github",
        "colab_type": "text"
      },
      "source": [
        "<a href=\"https://colab.research.google.com/github/Shashank123-hub/PythonProjects-Codes/blob/master/Movie_recommendations_based_on_genre.ipynb\" target=\"_parent\"><img src=\"https://colab.research.google.com/assets/colab-badge.svg\" alt=\"Open In Colab\"/></a>"
      ]
    },
    {
      "cell_type": "markdown",
      "metadata": {
        "id": "VXQXFZ_RVUzN",
        "colab_type": "text"
      },
      "source": [
        "\n",
        "# **Project Topic : Movie recommendation based on genres**\n",
        "---\n",
        "\n",
        "\n",
        "> What the basic idea for this project is that it recommends a movie in accordance to genres given by the user to the algorithm.\n",
        "\n",
        "\n",
        "> There are 12 major classes of genres that would be effective for classification namely 'Comedy' , 'Horror' , 'Scifi' , 'Romance' , 'Action' , 'Thriller' , 'Drama' , 'Animation' , 'Crime' , 'Adventure' , 'Mystery' , 'Music'. These are taken as input and the corresponding movies would be displayed for the genre. \n",
        "\n",
        "\n",
        "\n",
        "\n",
        "\n"
      ]
    },
    {
      "cell_type": "markdown",
      "metadata": {
        "id": "xYVuZn2NfJYh",
        "colab_type": "text"
      },
      "source": [
        "# **Importing all depending libraries**\n",
        "\n",
        "\n",
        "> Libraries ***BeautifulSoup*** and ***lxml*** are used here for the given purpose.\n",
        "lxml is used for parsing the webpages and BeautifulSoup is used for pulling data out of HTML and XML files.\n",
        "\n"
      ]
    },
    {
      "cell_type": "code",
      "metadata": {
        "id": "bZtrxUgIVKvg",
        "colab_type": "code",
        "colab": {}
      },
      "source": [
        "from bs4 import BeautifulSoup as SOUP\n",
        "import re\n",
        "import requests as HTTP \n"
      ],
      "execution_count": 0,
      "outputs": []
    },
    {
      "cell_type": "markdown",
      "metadata": {
        "id": "XYxrqPQagRgR",
        "colab_type": "text"
      },
      "source": [
        "# **Designing the Algorithm**\n",
        "\n",
        "> We'll use IMDB url for recommending to suggest movies in accordance to the emotion.\n",
        "\n"
      ]
    },
    {
      "cell_type": "code",
      "metadata": {
        "id": "Jm5GjTKYgRs6",
        "colab_type": "code",
        "colab": {}
      },
      "source": [
        "#Main function for scraping\n",
        "def main(genre):\n",
        "\n",
        "  if(genre == 'Comedy'):\n",
        "    urlhere = 'https://www.imdb.com/search/title/?genres=comedy&title_type=feature&explore=genres&pf_rd_m=A2FGELUUNOQJNL&pf_rd_p=facfbd0c-6f3d-4c05-9348-22eebd58852e&pf_rd_r=YV7E9ZTKA85QYMWH7564&pf_rd_s=center-6&pf_rd_t=15051&pf_rd_i=genre&ref_=ft_gnr_mvpop_5, asc'\n",
        "  \n",
        "  elif(genre == 'Scifi'):\n",
        "    urlhere = 'https://www.imdb.com/search/title/?genres=sci-fi&title_type=feature&explore=genres&pf_rd_m=A2FGELUUNOQJNL&pf_rd_p=facfbd0c-6f3d-4c05-9348-22eebd58852e&pf_rd_r=YV7E9ZTKA85QYMWH7564&pf_rd_s=center-6&pf_rd_t=15051&pf_rd_i=genre&ref_=ft_gnr_mvpop_18, asc'\n",
        "\n",
        "  elif(genre == 'Horror'):\n",
        "    urlhere = 'https://www.imdb.com/search/title/?genres=horror&title_type=feature&explore=genres&pf_rd_m=A2FGELUUNOQJNL&pf_rd_p=facfbd0c-6f3d-4c05-9348-22eebd58852e&pf_rd_r=YV7E9ZTKA85QYMWH7564&pf_rd_s=center-6&pf_rd_t=15051&pf_rd_i=genre&ref_=ft_gnr_mvpop_13, asc'\n",
        "\n",
        "  elif(genre == 'Romance'):\n",
        "    urlhere = 'https://www.imdb.com/search/title/?genres=romance&title_type=feature&explore=genres&pf_rd_m=A2FGELUUNOQJNL&pf_rd_p=facfbd0c-6f3d-4c05-9348-22eebd58852e&pf_rd_r=YV7E9ZTKA85QYMWH7564&pf_rd_s=center-6&pf_rd_t=15051&pf_rd_i=genre&ref_=ft_gnr_mvpop_17, asc'\n",
        "\n",
        "  elif(genre == 'Action'):\n",
        "    urlhere = 'https://www.imdb.com/search/title/?genres=action&title_type=feature&explore=genres&pf_rd_m=A2FGELUUNOQJNL&pf_rd_p=facfbd0c-6f3d-4c05-9348-22eebd58852e&pf_rd_r=YV7E9ZTKA85QYMWH7564&pf_rd_s=center-6&pf_rd_t=15051&pf_rd_i=genre&ref_=ft_gnr_mvpop_1, asc'\n",
        "  \n",
        "  elif(genre == 'Thriller'):\n",
        "    urlhere = 'https://www.imdb.com/search/title/?genres=thriller&title_type=feature&explore=genres&pf_rd_m=A2FGELUUNOQJNL&pf_rd_p=facfbd0c-6f3d-4c05-9348-22eebd58852e&pf_rd_r=YV7E9ZTKA85QYMWH7564&pf_rd_s=center-6&pf_rd_t=15051&pf_rd_i=genre&ref_=ft_gnr_mvpop_22, asc'\n",
        "\n",
        "  elif(genre == 'Drama'):\n",
        "    urlhere = 'https://www.imdb.com/search/title/?genres=drama&title_type=feature&explore=genres&pf_rd_m=A2FGELUUNOQJNL&pf_rd_p=facfbd0c-6f3d-4c05-9348-22eebd58852e&pf_rd_r=YV7E9ZTKA85QYMWH7564&pf_rd_s=center-6&pf_rd_t=15051&pf_rd_i=genre&ref_=ft_gnr_mvpop_8, asc'\n",
        "\n",
        "  elif(genre == 'Animation'):\n",
        "    urlhere = 'https://www.imdb.com/search/title/?genres=animation&title_type=feature&explore=genres&pf_rd_m=A2FGELUUNOQJNL&pf_rd_p=facfbd0c-6f3d-4c05-9348-22eebd58852e&pf_rd_r=YV7E9ZTKA85QYMWH7564&pf_rd_s=center-6&pf_rd_t=15051&pf_rd_i=genre&ref_=ft_gnr_mvpop_3, asc'\n",
        "\n",
        "  elif(genre == 'Adventure'):\n",
        "    urlhere = 'https://www.imdb.com/search/title/?genres=adventure&title_type=feature&explore=genres&pf_rd_m=A2FGELUUNOQJNL&pf_rd_p=facfbd0c-6f3d-4c05-9348-22eebd58852e&pf_rd_r=YV7E9ZTKA85QYMWH7564&pf_rd_s=center-6&pf_rd_t=15051&pf_rd_i=genre&ref_=ft_gnr_mvpop_2, asc'\n",
        "\n",
        "  elif(genre == 'Crime'):\n",
        "    urlhere = 'https://www.imdb.com/search/title/?genres=crime&title_type=feature&explore=genres&pf_rd_m=A2FGELUUNOQJNL&pf_rd_p=facfbd0c-6f3d-4c05-9348-22eebd58852e&pf_rd_r=YV7E9ZTKA85QYMWH7564&pf_rd_s=center-6&pf_rd_t=15051&pf_rd_i=genre&ref_=ft_gnr_mvpop_6, asc'  \n",
        "\n",
        "  elif(genre == 'Mystery'):\n",
        "    urlhere = 'https://www.imdb.com/search/title/?genres=mystery&title_type=feature&explore=genres&pf_rd_m=A2FGELUUNOQJNL&pf_rd_p=facfbd0c-6f3d-4c05-9348-22eebd58852e&pf_rd_r=YV7E9ZTKA85QYMWH7564&pf_rd_s=center-6&pf_rd_t=15051&pf_rd_i=genre&ref_=ft_gnr_mvpop_16, asc'\n",
        " \n",
        "  elif(genre == 'Music'):\n",
        "    urlhere = 'https://www.imdb.com/search/title/?genres=music&title_type=feature&explore=genres&pf_rd_m=A2FGELUUNOQJNL&pf_rd_p=facfbd0c-6f3d-4c05-9348-22eebd58852e&pf_rd_r=YV7E9ZTKA85QYMWH7564&pf_rd_s=center-6&pf_rd_t=15051&pf_rd_i=genre&ref_=ft_gnr_mvpop_14, asc'     \n",
        "\n",
        "\n",
        "  #HTTP request to get data of the whole page\n",
        "  response = HTTP.get(urlhere)\n",
        "  data = response.text\n",
        "\n",
        "  #Parsing data using Beautifulsoup\n",
        "  soup = SOUP(data, 'lxml') \n",
        "\n",
        "  #Extract movie title using regex\n",
        "  title = soup.find_all(\"a\", attrs = {\"href\" : re.compile(r'\\/title\\/tt+\\d*\\/')}) \n",
        "  return title \n"
      ],
      "execution_count": 0,
      "outputs": []
    },
    {
      "cell_type": "markdown",
      "metadata": {
        "id": "VKWAs9_mIAID",
        "colab_type": "text"
      },
      "source": [
        "# **Defining the Driving function**"
      ]
    },
    {
      "cell_type": "code",
      "metadata": {
        "id": "T8KO0_olIAfL",
        "colab_type": "code",
        "colab": {
          "base_uri": "https://localhost:8080/",
          "height": 98
        },
        "outputId": "85064bbe-79fa-46f5-9eac-6fb7aea186d0"
      },
      "source": [
        "if __name__ == '__main__':\n",
        "  \n",
        "  genre = input('Enter the genre for the movie : ')\n",
        "  a = main(genre)\n",
        "  count = 0 \n",
        "\n",
        "  if(genre == 'Disgust' or genre == 'Anger' or genre == 'Surprise'):\n",
        "\n",
        "    for i in a :\n",
        "      tmp = str(i).split('>;') #Splitting each line of the data to scape movies \n",
        "\n",
        "      if(len(tmp) == 3):\n",
        "        print(tmp[1][:-3])\n",
        "\n",
        "      if(count > 13):\n",
        "        break  \n",
        "      count += 1\n",
        "\n",
        "  else:\n",
        "    for i in a:\n",
        "      tmp = str(i).split('>')\n",
        "\n",
        "      if(len(tmp) == 3):\n",
        "        print(tmp[1][:-3])\n",
        "\n",
        "      if(count > 11):\n",
        "        break\n",
        "      count += 1          "
      ],
      "execution_count": 37,
      "outputs": [
        {
          "output_type": "stream",
          "text": [
            "Enter the genre for the movie : Comedy\n",
            "The Wrong Missy\n",
            "Scoob!\n",
            "Once Upon a Time... in Hollywood\n",
            "Parasite\n"
          ],
          "name": "stdout"
        }
      ]
    }
  ]
}