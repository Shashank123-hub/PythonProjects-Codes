{
  "nbformat": 4,
  "nbformat_minor": 0,
  "metadata": {
    "colab": {
      "name": "Morse Code Translator.ipynb",
      "provenance": [],
      "authorship_tag": "ABX9TyOCCfmqa3+M0LmMS8W6m8id"
    },
    "kernelspec": {
      "name": "python3",
      "display_name": "Python 3"
    },
    "accelerator": "GPU"
  },
  "cells": [
    {
      "cell_type": "markdown",
      "metadata": {
        "id": "ZxjCjvzhzj2r",
        "colab_type": "text"
      },
      "source": [
        "#**Project Title : Morse Code Translator**#\n",
        "\n",
        "---\n",
        "\n",
        "\n",
        "\n",
        "> This project is intended to create morse code for a given alphabetical terms into a series of 'dots' and 'dashes' and vice versa. This morse coding is known a ***Encryption*** and ***Decryption***. \n",
        "\n",
        "\n"
      ]
    },
    {
      "cell_type": "markdown",
      "metadata": {
        "id": "W0Y_go8_0VnU",
        "colab_type": "text"
      },
      "source": [
        "# **Step 1 : Creating a morse code dictionary for our algorithm to use**"
      ]
    },
    {
      "cell_type": "code",
      "metadata": {
        "id": "tQPPgGZD0V1D",
        "colab_type": "code",
        "colab": {}
      },
      "source": [
        "MORSE_CODE_DICT = { 'A':'.-', 'B':'-...', \n",
        "                    'C':'-.-.', 'D':'-..', 'E':'.', \n",
        "                    'F':'..-.', 'G':'--.', 'H':'....', \n",
        "                    'I':'..', 'J':'.---', 'K':'-.-', \n",
        "                    'L':'.-..', 'M':'--', 'N':'-.', \n",
        "                    'O':'---', 'P':'.--.', 'Q':'--.-', \n",
        "                    'R':'.-.', 'S':'...', 'T':'-', \n",
        "                    'U':'..-', 'V':'...-', 'W':'.--', \n",
        "                    'X':'-..-', 'Y':'-.--', 'Z':'--..', \n",
        "                    '1':'.----', '2':'..---', '3':'...--', \n",
        "                    '4':'....-', '5':'.....', '6':'-....', \n",
        "                    '7':'--...', '8':'---..', '9':'----.', \n",
        "                    '0':'-----', ', ':'--..--', '.':'.-.-.-', \n",
        "                    '?':'..--..', '/':'-..-.', '-':'-....-', \n",
        "                    '(':'-.--.', ')':'-.--.-' }"
      ],
      "execution_count": 0,
      "outputs": []
    },
    {
      "cell_type": "markdown",
      "metadata": {
        "id": "796djyTk1CyJ",
        "colab_type": "text"
      },
      "source": [
        "# **Step 2 : Designing the alogrithm**\n",
        "\n"
      ]
    },
    {
      "cell_type": "code",
      "metadata": {
        "id": "cERug4Kt1DCQ",
        "colab_type": "code",
        "colab": {}
      },
      "source": [
        "#Function to encrypt the string(English to Morse)\n",
        "def encrypt(message):\n",
        "  cipher = \" \"\n",
        "  for letter in message:\n",
        "    if letter != \" \":\n",
        "      #looks up in the dictionary and adds the corresponding morse code along with spaces\n",
        "      cipher += MORSE_CODE_DICT[letter] + \" \"\n",
        "    else:\n",
        "      cipher += \" \"\n",
        "  return cipher  \n",
        "\n",
        "#Function to decrypt the string(Morse to English)\n",
        "def decrypt(message):\n",
        "    \n",
        "    # extra space added at the end to access the last morse code \n",
        "    message += ' '\n",
        "    decipher = '' \n",
        "    citext = ''\n",
        "     \n",
        "    for letter in message: \n",
        "  \n",
        "        # checks for space \n",
        "        if (letter != ' '): \n",
        "  \n",
        "            # counter to keep track of space \n",
        "            i = 0\n",
        "  \n",
        "            # storing morse code of a single character \n",
        "            citext += letter \n",
        "  \n",
        "        # in case of space \n",
        "        else: \n",
        "            # if i = 1 that indicates a new character \n",
        "            i += 1\n",
        "  \n",
        "            # if i = 2 that indicates a new word \n",
        "            if i == 2 : \n",
        "  \n",
        "                 # adding space to separate words \n",
        "                decipher += ' '\n",
        "            else: \n",
        "  \n",
        "                # accessing the keys using their values (reverse of encryption) \n",
        "                decipher += list(MORSE_CODE_DICT.keys())[list(MORSE_CODE_DICT \n",
        "                .values()).index(citext)] \n",
        "                citext = '' \n",
        "  \n",
        "    return decipher \n"
      ],
      "execution_count": 0,
      "outputs": []
    },
    {
      "cell_type": "markdown",
      "metadata": {
        "id": "lXyzAtn61DUX",
        "colab_type": "text"
      },
      "source": [
        "# **Step 3 : Driver function to run the code**"
      ]
    },
    {
      "cell_type": "code",
      "metadata": {
        "id": "zI8LDz1O1Dl1",
        "colab_type": "code",
        "colab": {
          "base_uri": "https://localhost:8080/",
          "height": 377
        },
        "outputId": "ebf47110-d3d7-4514-8cd3-7c5d0766c313"
      },
      "source": [
        "def main():\n",
        "  message = input('Enter the message to encrypt : ') #For encryption\n",
        "  result = encrypt(message.upper())\n",
        "  print('Encrypted message : ' +result)\n",
        "\n",
        "  message = input('Enter the message to decrypt back to english : ') #For decryption\n",
        "  result = decrypt(message)\n",
        "  print('Decrypted message : ' +result)\n",
        "\n",
        "if __name__ == '__main__':\n",
        "  main()  "
      ],
      "execution_count": 10,
      "outputs": [
        {
          "output_type": "stream",
          "text": [
            "Enter the message to encrypt : Hello\n",
            "Encrypted message :  .... . .-.. .-.. --- \n",
            "Enter the message to decrypt back to english : ....---\n"
          ],
          "name": "stdout"
        },
        {
          "output_type": "error",
          "ename": "ValueError",
          "evalue": "ignored",
          "traceback": [
            "\u001b[0;31m---------------------------------------------------------------------------\u001b[0m",
            "\u001b[0;31mValueError\u001b[0m                                Traceback (most recent call last)",
            "\u001b[0;32m<ipython-input-10-5e5e7fa2f775>\u001b[0m in \u001b[0;36m<module>\u001b[0;34m()\u001b[0m\n\u001b[1;32m      9\u001b[0m \u001b[0;34m\u001b[0m\u001b[0m\n\u001b[1;32m     10\u001b[0m \u001b[0;32mif\u001b[0m \u001b[0m__name__\u001b[0m \u001b[0;34m==\u001b[0m \u001b[0;34m'__main__'\u001b[0m\u001b[0;34m:\u001b[0m\u001b[0;34m\u001b[0m\u001b[0;34m\u001b[0m\u001b[0m\n\u001b[0;32m---> 11\u001b[0;31m   \u001b[0mmain\u001b[0m\u001b[0;34m(\u001b[0m\u001b[0;34m)\u001b[0m\u001b[0;34m\u001b[0m\u001b[0;34m\u001b[0m\u001b[0m\n\u001b[0m",
            "\u001b[0;32m<ipython-input-10-5e5e7fa2f775>\u001b[0m in \u001b[0;36mmain\u001b[0;34m()\u001b[0m\n\u001b[1;32m      5\u001b[0m \u001b[0;34m\u001b[0m\u001b[0m\n\u001b[1;32m      6\u001b[0m   \u001b[0mmessage\u001b[0m \u001b[0;34m=\u001b[0m \u001b[0minput\u001b[0m\u001b[0;34m(\u001b[0m\u001b[0;34m'Enter the message to decrypt back to english : '\u001b[0m\u001b[0;34m)\u001b[0m \u001b[0;31m#For decryption\u001b[0m\u001b[0;34m\u001b[0m\u001b[0;34m\u001b[0m\u001b[0m\n\u001b[0;32m----> 7\u001b[0;31m   \u001b[0mresult\u001b[0m \u001b[0;34m=\u001b[0m \u001b[0mdecrypt\u001b[0m\u001b[0;34m(\u001b[0m\u001b[0mmessage\u001b[0m\u001b[0;34m)\u001b[0m\u001b[0;34m\u001b[0m\u001b[0;34m\u001b[0m\u001b[0m\n\u001b[0m\u001b[1;32m      8\u001b[0m   \u001b[0mprint\u001b[0m\u001b[0;34m(\u001b[0m\u001b[0;34m'Decrypted message : '\u001b[0m \u001b[0;34m+\u001b[0m\u001b[0mresult\u001b[0m\u001b[0;34m)\u001b[0m\u001b[0;34m\u001b[0m\u001b[0;34m\u001b[0m\u001b[0m\n\u001b[1;32m      9\u001b[0m \u001b[0;34m\u001b[0m\u001b[0m\n",
            "\u001b[0;32m<ipython-input-2-55282fdfbb5e>\u001b[0m in \u001b[0;36mdecrypt\u001b[0;34m(message)\u001b[0m\n\u001b[1;32m     43\u001b[0m                 \u001b[0;31m# accessing the keys using their values (reverse of encryption)\u001b[0m\u001b[0;34m\u001b[0m\u001b[0;34m\u001b[0m\u001b[0;34m\u001b[0m\u001b[0m\n\u001b[1;32m     44\u001b[0m                 decipher += list(MORSE_CODE_DICT.keys())[list(MORSE_CODE_DICT \n\u001b[0;32m---> 45\u001b[0;31m                 .values()).index(citext)] \n\u001b[0m\u001b[1;32m     46\u001b[0m                 \u001b[0mcitext\u001b[0m \u001b[0;34m=\u001b[0m \u001b[0;34m''\u001b[0m\u001b[0;34m\u001b[0m\u001b[0;34m\u001b[0m\u001b[0m\n\u001b[1;32m     47\u001b[0m \u001b[0;34m\u001b[0m\u001b[0m\n",
            "\u001b[0;31mValueError\u001b[0m: '....---' is not in list"
          ]
        }
      ]
    }
  ]
}