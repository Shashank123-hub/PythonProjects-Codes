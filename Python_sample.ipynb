{
  "nbformat": 4,
  "nbformat_minor": 0,
  "metadata": {
    "colab": {
      "name": "Python sample.ipynb",
      "provenance": [],
      "authorship_tag": "ABX9TyMezWj4vFi2Z1ttorWG1CsX",
      "include_colab_link": true
    },
    "kernelspec": {
      "name": "python3",
      "display_name": "Python 3"
    }
  },
  "cells": [
    {
      "cell_type": "markdown",
      "metadata": {
        "id": "view-in-github",
        "colab_type": "text"
      },
      "source": [
        "<a href=\"https://colab.research.google.com/github/Shashank123-hub/PythonProjects-Codes/blob/master/Python_sample.ipynb\" target=\"_parent\"><img src=\"https://colab.research.google.com/assets/colab-badge.svg\" alt=\"Open In Colab\"/></a>"
      ]
    },
    {
      "cell_type": "code",
      "metadata": {
        "id": "HZIaE2mbvghe",
        "outputId": "912076cd-987b-426e-9716-e4b2a3c492c8",
        "colab": {
          "base_uri": "https://localhost:8080/",
          "height": 33
        }
      },
      "source": [
        "#printing a value\n",
        "print(\"This value is meant to be printed.\")"
      ],
      "execution_count": null,
      "outputs": [
        {
          "output_type": "stream",
          "text": [
            "This value is meant to be printed.\n"
          ],
          "name": "stdout"
        }
      ]
    },
    {
      "cell_type": "code",
      "metadata": {
        "id": "ZWPfH6ZQvy08",
        "outputId": "605bfb1d-4223-4b7c-b2a5-9273e1103aa8",
        "colab": {
          "base_uri": "https://localhost:8080/",
          "height": 33
        }
      },
      "source": [
        "#indentation example\n",
        "if 5>2:\n",
        "  print(\"The if statement is correct\")"
      ],
      "execution_count": null,
      "outputs": [
        {
          "output_type": "stream",
          "text": [
            "The if statement is correct\n"
          ],
          "name": "stdout"
        }
      ]
    },
    {
      "cell_type": "code",
      "metadata": {
        "id": "AsEFr03uv1Y6",
        "outputId": "723b9c93-e94b-4f1e-c655-5722a3288cdb",
        "colab": {
          "base_uri": "https://localhost:8080/",
          "height": 33
        }
      },
      "source": [
        "#Commenting\n",
        "#This is a single line comment \n",
        "\"\"\"This is a multi line comment end \n",
        "in multiple lines.\"\"\"\n",
        "print(\"Commenting has been done\")\n"
      ],
      "execution_count": null,
      "outputs": [
        {
          "output_type": "stream",
          "text": [
            "Commenting has been done\n"
          ],
          "name": "stdout"
        }
      ]
    },
    {
      "cell_type": "code",
      "metadata": {
        "id": "suVKo9qwv1gM",
        "outputId": "59861ded-632b-4579-c06b-22bc22f491d6",
        "colab": {
          "base_uri": "https://localhost:8080/",
          "height": 82
        }
      },
      "source": [
        "#Python variables\n",
        "x = 5 \n",
        "y = \"ABC\"\n",
        "print(x)\n",
        "print(y)\n",
        "#Getting the data types for a variable\n",
        "print(type(x))\n",
        "print(type(y))"
      ],
      "execution_count": null,
      "outputs": [
        {
          "output_type": "stream",
          "text": [
            "5\n",
            "ABC\n",
            "<class 'int'>\n",
            "<class 'str'>\n"
          ],
          "name": "stdout"
        }
      ]
    },
    {
      "cell_type": "code",
      "metadata": {
        "id": "WzTUvbZvv1ld",
        "outputId": "e6e09e17-80f5-40eb-89b5-8fdd7515f5cc",
        "colab": {
          "base_uri": "https://localhost:8080/",
          "height": 66
        }
      },
      "source": [
        "#Python numbers\n",
        "x = 12\n",
        "y = -23\n",
        "print(x,y,type(y))\n",
        "#Floating numbers\n",
        "x = 1.21\n",
        "y = -2.86\n",
        "print(x,y,type(x))\n",
        "#Complex numbers\n",
        "x = 3+5j\n",
        "y = -5j\n",
        "print(x,y,type(x))"
      ],
      "execution_count": null,
      "outputs": [
        {
          "output_type": "stream",
          "text": [
            "12 -23 <class 'int'>\n",
            "1.21 -2.86 <class 'float'>\n",
            "(3+5j) (-0-5j) <class 'complex'>\n"
          ],
          "name": "stdout"
        }
      ]
    },
    {
      "cell_type": "code",
      "metadata": {
        "id": "sPiK66mAv1r5",
        "outputId": "a1eec5c5-81ba-4f90-c857-c8d2f6d7ee35",
        "colab": {
          "base_uri": "https://localhost:8080/",
          "height": 33
        }
      },
      "source": [
        "#Type conversion\n",
        "x = 20\n",
        "y = 4.11\n",
        "a = float(x)\n",
        "b = int(y)\n",
        "print(a,b)"
      ],
      "execution_count": null,
      "outputs": [
        {
          "output_type": "stream",
          "text": [
            "20.0 4\n"
          ],
          "name": "stdout"
        }
      ]
    },
    {
      "cell_type": "code",
      "metadata": {
        "id": "yapT-6mRv1ym",
        "outputId": "64fafc1d-15ae-4779-c27f-09d677d77609",
        "colab": {
          "base_uri": "https://localhost:8080/",
          "height": 33
        }
      },
      "source": [
        "#Random number generation\n",
        "import random\n",
        "\n",
        "print(random.randrange(1,1000))"
      ],
      "execution_count": null,
      "outputs": [
        {
          "output_type": "stream",
          "text": [
            "296\n"
          ],
          "name": "stdout"
        }
      ]
    },
    {
      "cell_type": "code",
      "metadata": {
        "id": "Lw5TV1eav14a",
        "outputId": "2c0186d9-db0b-400f-af4a-7f6214038a35",
        "colab": {
          "base_uri": "https://localhost:8080/",
          "height": 50
        }
      },
      "source": [
        "#Type casting\n",
        "x = int(2.22)\n",
        "print(x,type(x))\n",
        "y = complex(2)\n",
        "print(y,type(y))"
      ],
      "execution_count": null,
      "outputs": [
        {
          "output_type": "stream",
          "text": [
            "2 <class 'int'>\n",
            "(2+0j) <class 'complex'>\n"
          ],
          "name": "stdout"
        }
      ]
    },
    {
      "cell_type": "code",
      "metadata": {
        "id": "_ApbFzYFv12A",
        "outputId": "856deecd-c8be-490c-9e96-ef765d26a29b",
        "colab": {
          "base_uri": "https://localhost:8080/",
          "height": 342
        }
      },
      "source": [
        "#Strings\n",
        "a = \"Hello there\"\n",
        "print(a,type(a))\n",
        "#Multiline strings\n",
        "b = \"\"\"This is a multi-\n",
        "line string comprising of several\n",
        "string at once\"\"\"\n",
        "print(b,type(b))\n",
        "#Array string\n",
        "print(a[3])\n",
        "#Array slicing\n",
        "print(a[2:8])\n",
        "#String length\n",
        "print(len(b))\n",
        "#strip() method\n",
        "print(a.strip())\n",
        "#lower() method\n",
        "print(b.lower())\n",
        "#upper() method\n",
        "print(b.upper())\n",
        "#replace() method\n",
        "print(a.replace(\"there\",\"Hello Hello Hello\"))\n",
        "#split() method\n",
        "print(b.split())\n",
        "#Check string\n",
        "a = \"Hello there, welcome to my colaboratory\"\n",
        "x = \"there\" in a\n",
        "print(x)\n",
        "y = \"there\" not in a \n",
        "print(y)\n",
        "#String concatenation\n",
        "q = \"HEllO\"\n",
        "r = \" THERE\"\n",
        "s = q + r\n",
        "print(s)\n",
        "#String format(combing two different data types)\n",
        "age = 21\n",
        "YOB = 1999\n",
        "text = \"Hello ! My name is Shashank and i am {} years old.\"\n",
        "print(text.format(age))"
      ],
      "execution_count": null,
      "outputs": [
        {
          "output_type": "stream",
          "text": [
            "Hello there <class 'str'>\n",
            "This is a multi-\n",
            "line string comprising of several\n",
            "string at once <class 'str'>\n",
            "l\n",
            "llo th\n",
            "65\n",
            "Hello there\n",
            "this is a multi-\n",
            "line string comprising of several\n",
            "string at once\n",
            "THIS IS A MULTI-\n",
            "LINE STRING COMPRISING OF SEVERAL\n",
            "STRING AT ONCE\n",
            "Hello Hello Hello Hello\n",
            "['This', 'is', 'a', 'multi-', 'line', 'string', 'comprising', 'of', 'several', 'string', 'at', 'once']\n",
            "True\n",
            "False\n",
            "HEllO THERE\n",
            "Hello ! My name is Shashank and i am 21 years old.\n"
          ],
          "name": "stdout"
        }
      ]
    },
    {
      "cell_type": "code",
      "metadata": {
        "id": "RPGoSSstv1wh",
        "outputId": "669277c5-d943-4f6c-ca84-10f3ad4e5d80",
        "colab": {
          "base_uri": "https://localhost:8080/",
          "height": 115
        }
      },
      "source": [
        "#Python Booleans(Ture/False situations)\n",
        "print(10>9) #True condition\n",
        "print(10<9) #False condition\n",
        "#Evaluating boolean variables \n",
        "print(bool('False'))\n",
        "print(bool(\"\"))\n",
        "#Functions returning boolean\n",
        "def myFunc():\n",
        "  return True\n",
        "print(myFunc())  \n",
        "\n",
        "x = 2\n",
        "print(isinstance(x,int))"
      ],
      "execution_count": null,
      "outputs": [
        {
          "output_type": "stream",
          "text": [
            "True\n",
            "False\n",
            "True\n",
            "False\n",
            "True\n",
            "True\n"
          ],
          "name": "stdout"
        }
      ]
    },
    {
      "cell_type": "code",
      "metadata": {
        "id": "PtYuAWZZv1u8",
        "outputId": "59242f55-13e2-483d-9aec-06a877241987",
        "colab": {
          "base_uri": "https://localhost:8080/",
          "height": 342
        }
      },
      "source": [
        "#Python operators\n",
        "#1. Arithematic\n",
        "print(1+2)\n",
        "print(4-2)\n",
        "print(2*2)\n",
        "print(4/2)\n",
        "print(2%3)\n",
        "print(\"\")\n",
        "#2. Comparison\n",
        "print(1==1)\n",
        "print(2>=1)\n",
        "print(2<=1)\n",
        "print(1!=1)\n",
        "print(\"\")\n",
        "#3. Assignment\n",
        "x=5\n",
        "print(x)\n",
        "y = 2\n",
        "y += 2 \n",
        "print(y)\n",
        "z = 5\n",
        "z -= 1\n",
        "print(z)\n",
        "a = 2\n",
        "a *= 3\n",
        "print(a)\n",
        "b = 25\n",
        "b /= 5\n",
        "print(b)\n",
        "print(\"\")\n",
        "#4. Logical \n",
        "print(1<2 & 2>1)\n",
        "print(1==1 or 2<1)\n",
        "print(not 1!=1)\n",
        "#5. Identify\n",
        "   #Is\n",
        "   #IsNot\n",
        "#6. Membership\n",
        "   #In\n",
        "   #NotIn \n",
        "#7. Bitwise \n",
        "   #AND \n",
        "   #OR\n",
        "   #XOR\n",
        "   #NOT\n",
        "\n",
        "\n"
      ],
      "execution_count": null,
      "outputs": [
        {
          "output_type": "stream",
          "text": [
            "3\n",
            "2\n",
            "4\n",
            "2.0\n",
            "2\n",
            "\n",
            "True\n",
            "True\n",
            "False\n",
            "False\n",
            "\n",
            "5\n",
            "4\n",
            "4\n",
            "6\n",
            "5.0\n",
            "\n",
            "True\n",
            "True\n",
            "True\n"
          ],
          "name": "stdout"
        }
      ]
    },
    {
      "cell_type": "code",
      "metadata": {
        "id": "VqgSax8cv1qB",
        "outputId": "bf55a8d2-14b8-4a70-ef9d-e32a6e6709d8",
        "colab": {
          "base_uri": "https://localhost:8080/",
          "height": 261
        }
      },
      "source": [
        "#Python Lists\n",
        "list_A = [\"a\",\"b\",\"c\",\"d\",\"e\"]\n",
        "print(list_A)\n",
        "#Accessing items\n",
        "print(list_A[1])\n",
        "#Negative indexing\n",
        "print(list_A[-3])\n",
        "#Range indexing\n",
        "print(list_A[1:4])\n",
        "#Changing an item value\n",
        "list_A[1] = \"letter B\"\n",
        "print(list_A)\n",
        "#Looping through the list\n",
        "for x in list_A:\n",
        "  print(x)\n",
        "#Length of the list\n",
        "print(len(list_A))  \n",
        "#Adding items t the list\n",
        "list_A.append(\"f\")\n",
        "print(list_A)\n",
        "#Removing items\n",
        "list_A.remove(\"f\")\n",
        "print(list_A)\n",
        "#Delete items\n",
        "del list_A[1]\n",
        "print(list_A)\n",
        "#Joining/Concatenating two list\n",
        "a = [\"1\",\"2\",\"3\"] \n",
        "b = [\"4\",\"5\",\"6\",\"7\",\"8\"]\n",
        "c = a + b\n",
        "print(c)"
      ],
      "execution_count": null,
      "outputs": [
        {
          "output_type": "stream",
          "text": [
            "['a', 'b', 'c', 'd', 'e']\n",
            "b\n",
            "c\n",
            "['b', 'c', 'd']\n",
            "['a', 'letter B', 'c', 'd', 'e']\n",
            "a\n",
            "letter B\n",
            "c\n",
            "d\n",
            "e\n",
            "5\n",
            "['a', 'letter B', 'c', 'd', 'e', 'f']\n",
            "['a', 'letter B', 'c', 'd', 'e']\n",
            "['a', 'c', 'd', 'e']\n",
            "['1', '2', '3', '4', '5', '6', '7', '8']\n"
          ],
          "name": "stdout"
        }
      ]
    },
    {
      "cell_type": "code",
      "metadata": {
        "id": "JQSbm-C3v1oR",
        "outputId": "dbfb392b-3751-4ce6-e63c-24829dcace20",
        "colab": {
          "base_uri": "https://localhost:8080/",
          "height": 212
        }
      },
      "source": [
        "#Python Tuples\n",
        "Tuple_One = (\"a\",\"b\",\"c\",\"d\",\"e\")\n",
        "print(Tuple_One) \n",
        "#Accessing items in a tuple\n",
        "print(Tuple_One[1])\n",
        "#Positive indexing slicing\n",
        "print(Tuple_One[1:4])\n",
        "#Negative indexing\n",
        "print(Tuple_One[-2])\n",
        "#Changing values(by coverting into a list)\n",
        "new_list =  list(Tuple_One)\n",
        "new_list[1] = \"letter B\"\n",
        "another_list = tuple(new_list)\n",
        "print(another_list)\n",
        "#Looping through the list\n",
        "for x in Tuple_One:\n",
        "  print(x)\n",
        "#Tuple with a sing item\n",
        "Tuple_two = (\"apple\",)\n",
        "print(Tuple_two) \n",
        "#Concatenating two tuples\n",
        "tuple_A = (\"1\",\"2\",\"3\",\"4\")\n",
        "tuple_B = (\"5\",\"6\",\"7\",\"8\")\n",
        "tuple_C = tuple_A + tuple_B\n",
        "print(tuple_C) "
      ],
      "execution_count": null,
      "outputs": [
        {
          "output_type": "stream",
          "text": [
            "('a', 'b', 'c', 'd', 'e')\n",
            "b\n",
            "('b', 'c', 'd')\n",
            "d\n",
            "('a', 'letter B', 'c', 'd', 'e')\n",
            "a\n",
            "b\n",
            "c\n",
            "d\n",
            "e\n",
            "('apple',)\n",
            "('1', '2', '3', '4', '5', '6', '7', '8')\n"
          ],
          "name": "stdout"
        }
      ]
    },
    {
      "cell_type": "code",
      "metadata": {
        "id": "63iltrHav1kW",
        "outputId": "43b5f3de-dbba-42a5-f5b6-5493ea29974d",
        "colab": {
          "base_uri": "https://localhost:8080/",
          "height": 277
        }
      },
      "source": [
        "#Python sets(written in curly brackets)\n",
        "set_A = {\"a\",\"b\",\"c\",\"d\"}\n",
        "print(set_A)\n",
        "#Accessing items\n",
        " #1. Looping through the set\n",
        "for x in set_A:\n",
        "  print(x)\n",
        " #2. To check if an element is present\n",
        "print(\"a\" in set_A) \n",
        "#Items cannot be changed in a set by any means\n",
        "#Add items\n",
        " #1. add()- for adding a single item at a time\n",
        "set_B = {\"Apple\",\"Banana\",\"Orange\"}\n",
        "set_B.add(\"Strawberry\")\n",
        "print(set_B)\n",
        " #2. update()- for adding multiple items at once\n",
        "set_B.update([\"Pear\",\"Melon\",\"Grapes\"])\n",
        "print(set_B)\n",
        "#Getting the length of a set\n",
        "print(len(set_B))\n",
        "#Removing items\n",
        " #1. Remove() method\n",
        "set_B.remove(\"Pear\")\n",
        "print(set_B)\n",
        " #2. discard() method\n",
        "set_B.discard(\"Melon\")\n",
        "print(set_B) \n",
        " #3. pop() method- only removes the last method\n",
        "x=set_B.pop()\n",
        "print(x) \n",
        "#Deleting the whole set \n",
        " #1. clear() method\n",
        "set_A.clear()\n",
        "print(set_A)\n",
        "#Joining two sets \n",
        " #1. Using union \n",
        "set1 = {1,2,3}\n",
        "set2 = {4,5,6}\n",
        "set3 = set1.union( set2)\n",
        "print(set3)\n",
        " #2. Using update\n",
        "setA = {\"p\",\"q\",\"r\"}\n",
        "setB = {\"s\",\"t\",\"u\"}\n",
        "setA.update(setB)\n",
        "print(setA) \n",
        "#Set constructor \n",
        "this_set = set((1,2,3,4,5))\n",
        "print(this_set)"
      ],
      "execution_count": null,
      "outputs": [
        {
          "output_type": "stream",
          "text": [
            "{'d', 'b', 'c', 'a'}\n",
            "d\n",
            "b\n",
            "c\n",
            "a\n",
            "True\n",
            "{'Banana', 'Strawberry', 'Apple', 'Orange'}\n",
            "{'Melon', 'Banana', 'Apple', 'Orange', 'Strawberry', 'Grapes', 'Pear'}\n",
            "7\n",
            "{'Melon', 'Banana', 'Apple', 'Orange', 'Strawberry', 'Grapes'}\n",
            "{'Banana', 'Apple', 'Orange', 'Strawberry', 'Grapes'}\n",
            "Banana\n",
            "set()\n",
            "{1, 2, 3, 4, 5, 6}\n",
            "{'q', 's', 'u', 'p', 't', 'r'}\n",
            "{1, 2, 3, 4, 5}\n"
          ],
          "name": "stdout"
        }
      ]
    },
    {
      "cell_type": "code",
      "metadata": {
        "id": "mrsX7ki8v1d1",
        "outputId": "e41eb8de-08c9-46df-e73a-ea77eca6115b",
        "colab": {
          "base_uri": "https://localhost:8080/",
          "height": 395
        }
      },
      "source": [
        "#Dictionary\n",
        "#A collection which is unordered, unchangeable and unindexed\n",
        " #Creating a dictionary\n",
        "thisdict={\"Name\":\"John\",\"Age\":21,\"Class\":\"12th\"}\n",
        "print(thisdict)\n",
        "#Accessing items\n",
        "#1. model key\n",
        "x = thisdict[\"Name\"]\n",
        "print(x)\n",
        "#2. get() method\n",
        "x = thisdict.get(\"Age\")\n",
        "print(x)\n",
        "#Changing values\n",
        "thisdict[\"Age\"] = 22\n",
        "x = thisdict[\"Age\"]\n",
        "print(x)\n",
        "#Listing out all the values\n",
        "for x in thisdict:\n",
        "  print(thisdict[x])\n",
        "#Listing out all the key names\n",
        "for x in thisdict:\n",
        "  print(x)\n",
        "#Listing all the keys and values\n",
        "for x,y in thisdict.items():\n",
        "  print(x,y) \n",
        "#To check if the key exist using \"in\" keyword\n",
        "if \"name\" in thisdict:\n",
        "  print(\"Yes, this key is present\") \n",
        "#Length of a dictionary\n",
        "print(len(thisdict))  \n",
        "#Adding items\n",
        "thisdict[\"Designation\"] = \"Student\"\n",
        "thisdict[\"Interests\"] = \"Maths\"\n",
        "print(thisdict)\n",
        "#Removing items\n",
        "#1. pop() keyword\n",
        "thisdict.pop(\"Interests\")\n",
        "print(thisdict)\n",
        "#2. del keyword\n",
        "del thisdict[\"Name\"]\n",
        "print(thisdict)\n",
        "#Emptying the dictionary\n",
        "thisdict.clear()\n",
        "print(thisdict)\n",
        "#Copying the dictionary\n",
        "#1. Copying a dictionary with copy() function\n",
        "dict_A = {\n",
        "    \"Name\":\"Raj\",\n",
        "    \"Salary\":20000,\n",
        "    \"Field ops\": \"IT\"\n",
        "}\n",
        "mydict = dict_A.copy()\n",
        "print(mydict)\n",
        "#2. Using dict() function\n",
        "dict_B = dict(mydict)\n",
        "print(dict_B)\n",
        "#Nested dictionary\n",
        "new_dict = {\n",
        "    \"Employee 1\" : {\n",
        "        \"Name\" : \"John\",\n",
        "        \"Age\" : 22,\n",
        "        \"Salary\" : 20000\n",
        "    },\n",
        "    \"Employee 2\" : {\n",
        "        \"Name\" : \"Sam\",\n",
        "        \"Age\" : 24,\n",
        "        \"Salary\" : 30000\n",
        "    },\n",
        "    \"Employee 3\" : {\n",
        "        \"Name\" : \"Luke\",\n",
        "        \"Age\" : 25,\n",
        "        \"Salary\" : 45000\n",
        "    }  \n",
        "}\n",
        "print(new_dict)\n",
        "#dict() constructor\n",
        "thisdict = dict(Type=\"Car\",Model=\"Ford\",Color=\"Black\")\n",
        "print(thisdict)"
      ],
      "execution_count": null,
      "outputs": [
        {
          "output_type": "stream",
          "text": [
            "{'Name': 'John', 'Age': 21, 'Class': '12th'}\n",
            "John\n",
            "21\n",
            "22\n",
            "John\n",
            "22\n",
            "12th\n",
            "Name\n",
            "Age\n",
            "Class\n",
            "Name John\n",
            "Age 22\n",
            "Class 12th\n",
            "3\n",
            "{'Name': 'John', 'Age': 22, 'Class': '12th', 'Designation': 'Student', 'Interests': 'Maths'}\n",
            "{'Name': 'John', 'Age': 22, 'Class': '12th', 'Designation': 'Student'}\n",
            "{'Age': 22, 'Class': '12th', 'Designation': 'Student'}\n",
            "{}\n",
            "{'Name': 'Raj', 'Salary': 20000, 'Field ops': 'IT'}\n",
            "{'Name': 'Raj', 'Salary': 20000, 'Field ops': 'IT'}\n",
            "{'Employee 1': {'Name': 'John', 'Age': 22, 'Salary': 20000}, 'Employee 2': {'Name': 'Sam', 'Age': 24, 'Salary': 30000}, 'Employee 3': {'Name': 'Luke', 'Age': 25, 'Salary': 45000}}\n",
            "{'Type': 'Car', 'Model': 'Ford', 'Color': 'Black'}\n"
          ],
          "name": "stdout"
        }
      ]
    },
    {
      "cell_type": "code",
      "metadata": {
        "id": "NM99a4mLv1ct",
        "outputId": "518406a9-802a-4602-a2f2-40ca77d01f52",
        "colab": {
          "base_uri": "https://localhost:8080/",
          "height": 50
        }
      },
      "source": [
        "#Conditional statements\n",
        "#These are the statements which are used to choose between two or more conditi within an given function \n",
        "#1. if-else statements : these are used for single conditions\n",
        "x = 10\n",
        "if(x < 15):\n",
        "  print(\"X is Acceptable\")\n",
        "else:\n",
        "  print(\"X is not acceptable\")  \n",
        "#2. if-elif-else statements   \n",
        "Marks = 80\n",
        "if(Marks < 35):\n",
        "  print(\"Individual has failed\")\n",
        "elif(Marks < 75 and Marks > 35):\n",
        "  print(\"Individual has average marks.\")\n",
        "else:\n",
        "  print(\"Individual has performed excellent\")  \n",
        "#3. pass statements(used to avoid gettig an error in our code)\n",
        "a = 1\n",
        "b = 2\n",
        "\n",
        "if b > a:\n",
        "  pass"
      ],
      "execution_count": null,
      "outputs": [
        {
          "output_type": "stream",
          "text": [
            "X is Acceptable\n",
            "Individual has performed excellent\n"
          ],
          "name": "stdout"
        }
      ]
    },
    {
      "cell_type": "code",
      "metadata": {
        "id": "VlzwwAI4sZ1m",
        "outputId": "d20d732f-d6c8-412f-ad10-c40ecd3d3ed7",
        "colab": {
          "base_uri": "https://localhost:8080/",
          "height": 1000
        }
      },
      "source": [
        "#Looping constructs \n",
        "#1. For loop\n",
        "for i in range(10):\n",
        "  print(\"I feel wonderful\")\n",
        "#2. While loop  \n",
        "a = 10 \n",
        "while a < 20:\n",
        "  print(a)\n",
        "  a = a + 1\n",
        "  #2.a break statement\n",
        "i = 5\n",
        "while i < 15:\n",
        "  print(i)\n",
        "  if i == 10:\n",
        "    break\n",
        "    i = i + 1  "
      ],
      "execution_count": null,
      "outputs": [
        {
          "output_type": "stream",
          "text": [
            "I feel wonderful\n",
            "I feel wonderful\n",
            "I feel wonderful\n",
            "I feel wonderful\n",
            "I feel wonderful\n",
            "I feel wonderful\n",
            "I feel wonderful\n",
            "I feel wonderful\n",
            "I feel wonderful\n",
            "I feel wonderful\n",
            "10\n",
            "5\n",
            "6\n",
            "7\n",
            "8\n",
            "9\n",
            "10\n",
            "11\n",
            "5\n",
            "6\n",
            "7\n",
            "8\n",
            "9\n",
            "10\n",
            "12\n",
            "5\n",
            "6\n",
            "7\n",
            "8\n",
            "9\n",
            "10\n",
            "13\n",
            "5\n",
            "6\n",
            "7\n",
            "8\n",
            "9\n",
            "10\n",
            "14\n",
            "5\n",
            "6\n",
            "7\n",
            "8\n",
            "9\n",
            "10\n",
            "15\n",
            "5\n",
            "6\n",
            "7\n",
            "8\n",
            "9\n",
            "10\n",
            "16\n",
            "5\n",
            "6\n",
            "7\n",
            "8\n",
            "9\n",
            "10\n",
            "17\n",
            "5\n",
            "6\n",
            "7\n",
            "8\n",
            "9\n",
            "10\n",
            "18\n",
            "5\n",
            "6\n",
            "7\n",
            "8\n",
            "9\n",
            "10\n",
            "19\n",
            "5\n",
            "6\n",
            "7\n",
            "8\n",
            "9\n",
            "10\n"
          ],
          "name": "stdout"
        }
      ]
    },
    {
      "cell_type": "code",
      "metadata": {
        "id": "TrODjgs3vxYY",
        "outputId": "c5cde547-74c3-4bf3-9a00-758fc443abba",
        "colab": {
          "base_uri": "https://localhost:8080/",
          "height": 66
        }
      },
      "source": [
        "#Functions - Reusable piece of code created for solving a specific problem. Can be in-built or user-specified \n",
        "def area_of_rect(length,breadth):\n",
        "  area = length*breadth\n",
        "  return area\n",
        "\n",
        "print(\"Area of rectangle is :\",area_of_rect(10,20))\n",
        "\n",
        "def name_of_student(Name):\n",
        "  return Name\n",
        "\n",
        "print(\"The student name is :\",name_of_student(\"Sam\")) \n",
        "\n",
        "def area_of_circle(radius):\n",
        "  area = 3.14*radius*radius\n",
        "  return area\n",
        "\n",
        "print(\"Area of the circle is :\",area_of_circle(10))"
      ],
      "execution_count": 4,
      "outputs": [
        {
          "output_type": "stream",
          "text": [
            "Area of rectangle is : 200\n",
            "The student name is : Sam\n",
            "Area of the circle is : 314.0\n"
          ],
          "name": "stdout"
        }
      ]
    },
    {
      "cell_type": "code",
      "metadata": {
        "id": "sqb0AVszMp-9"
      },
      "source": [
        "#Standard libraries\n",
        " #-Libraries: Set of skills buit-in the python like functions, constants, data types etc\n",
        " #-Modules: Set of functions that perform a specific set of tasks \n",
        " #-Packages: Simply a collection of modules\n",
        " "
      ],
      "execution_count": null,
      "outputs": []
    }
  ]
}